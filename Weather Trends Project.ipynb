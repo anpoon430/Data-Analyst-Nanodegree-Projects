{
 "cells": [
  {
   "cell_type": "markdown",
   "metadata": {},
   "source": [
    "# Comparing weather trends in major cities to global weather trends"
   ]
  },
  {
   "cell_type": "markdown",
   "metadata": {},
   "source": [
    "## Outline of steps taken to prepare the data\n",
    "1.Extracted the data using SQL queries\n",
    "\n",
    "\n",
    "\n",
    "2.Using Excel, moved data into structured format to be charted and also calculated moving average using `AVERAGE()`\n",
    "\n",
    "\n",
    "\n",
    "3.Plotted line chart in Excel "
   ]
  },
  {
   "cell_type": "markdown",
   "metadata": {},
   "source": [
    "## Extracting the data"
   ]
  },
  {
   "cell_type": "markdown",
   "metadata": {},
   "source": [
    "1. The major city nearest to me can be searched from the database using SQL queries as follows:\n",
    "```SQL\n",
    "SELECT *\n",
    "FROM city_list\n",
    "WHERE country='Hong Kong';\n",
    "```\n",
    "Based on the data, the nearest city to me is `Shenzhen`\n",
    "\n",
    "2. I narrowed down the temperature data to focus on `Shenzhen` only:\n",
    "```SQl\n",
    "SELECT year,avg_temp\n",
    "FROM city_data\n",
    "WHERE city='Shenzhen'\n",
    "ORDER BY year;\n",
    "```\n",
    "3. Extract the global data:\n",
    "```SQL\n",
    "SELECT *\n",
    "FROM global_data\n",
    "ORDER BY year;\n",
    "```\n",
    "\n",
    "4. Export the data to CSV\n"
   ]
  },
  {
   "cell_type": "markdown",
   "metadata": {},
   "source": [
    "## Visualizing the data"
   ]
  },
  {
   "attachments": {},
   "cell_type": "markdown",
   "metadata": {},
   "source": [
    "Using `Excel` and the `AVERAGE=()` formula, the 7 year moving average for Shenzhen's temperature and the global data was calculated:  \n",
    "\n",
    "![movingavgcalc.JPG](movingavgcalc.jpg \"Calculation\")  \n",
    "\n",
    "Then, plotting both Shenzhen and the global 7 year moving averages together:  \n",
    "\n",
    "![ShenzhenvsGlobalchart.png](shenzhenvsglobalchart.png \"Shenzhen vs Global\")"
   ]
  },
  {
   "cell_type": "markdown",
   "metadata": {},
   "source": [
    "## Observations "
   ]
  },
  {
   "attachments": {},
   "cell_type": "markdown",
   "metadata": {},
   "source": [
    "1.Temperatures in Shenzhen are hotter on average than the global trend.  \n",
    "\n",
    "2.Shenzhen's temperatures maintain a relatively constant difference historically, but this difference has steadily declined(see green line below) as the global temperatures have risen in the past decade or so. This means that the global temperatures have increased faster than Shenzhen temperatures in the recent decades.  \n",
    "\n",
    "![ShenzhenvsGlobalchartwithDifference.png](ShenzhenvsGlobalchartwithDifference.png \"Difference\")  \n",
    "\n",
    "3.Changes in Shenzhen's temperature seems to follow a similar pattern of slow steady increase as the global trend. For example during the 1950s, the global temperatures increase then decrease slightly. Similarly, in Shenzhen, the temperatures also increase then decrease slightly.  \n",
    "\n",
    "4.Overall, the global trend in temperature seems to be increasing as shown from 1840 onwards. Even though the period from 1750-1840 show a high variability in global temperatures, the peak still never reached the temperatures reached within the recent decades. Based on this data, we can say the world is getting hotter.  \n",
    "\n",
    "5.Using a linear trend line to fit a graph of the local temperatures plotted against the global temperatures, one can estimate the temperature of the local city based on global temperatures.  \n",
    "\n",
    "![shenzhenvsglobalestimate.png](shenzhenvsglobalestimate.png \"estimate\")  \n",
    "\n",
    "The correlation coefficient, or Rsquared is `0.7758` as shown in the chart above. This demonstrates that global temperature is positively correlated to Shenzhen temperature, although not highly linearly correlated since it is not close to 1. This means that an increase in global temperature can be linked to an increase in Shenzhen Temperature. However, we **cannot** say that one caused the other since all the other variables that affect temperature are not account for or controlled for.  \n",
    "\n",
    "Using the $y=0.0068x + 20.838$ equation, the estimated Shenzhen temperature say, for instance in 2015 at a global temperature moving average of 9.61°C, $$estimation=0.0068(9.61)+20.838=20.9 °C$$ \n",
    "Compared to average temperature of Shenzhen in a typical year, 22 °C as estimated by this [website](https://www.travelchinaguide.com/climate/shenzhen.htm), The estimation is quite accurate, only off by 1-2°C  \n",
    "\n",
    "To better understand Shenzhen's temperature trends, I have added a few more major cities to compare against (Toronto, Tokyo, Jakarta):\n",
    "Querying the database with SQL:\n",
    "```SQL\n",
    "SELECT year,city,avg_temp\n",
    "FROM city_data\n",
    "WHERE city IN ('Tokyo','Toronto','Jakarta')\n",
    "ORDER BY city,year;\n",
    "```  \n",
    "\n",
    "![othercities.png](othercities.png \"multiple cities\")  \n",
    "\n",
    "As shown above, the trend of major cities Toronto, Tokyo, Jakarta and Shenzhen all seem to increase as observed by the 7 year moving average temperature. Temperatures in Toronto seem to match the global temperature changes initially but after 1870 is much more volatile than all the other countries. The temperature bump observed in 1880s seems also to be a pattern in all the major cities except for Jakarta, probably because of industrialization. Overall however, one can see that all the cities seem to follow a similar pattern of increasing temperature, similar to how global temperature is increasing. "
   ]
  },
  {
   "cell_type": "code",
   "execution_count": null,
   "metadata": {
    "collapsed": true
   },
   "outputs": [],
   "source": []
  }
 ],
 "metadata": {
  "kernelspec": {
   "display_name": "Python [default]",
   "language": "python",
   "name": "python3"
  },
  "language_info": {
   "codemirror_mode": {
    "name": "ipython",
    "version": 3
   },
   "file_extension": ".py",
   "mimetype": "text/x-python",
   "name": "python",
   "nbconvert_exporter": "python",
   "pygments_lexer": "ipython3",
   "version": "3.6.4"
  }
 },
 "nbformat": 4,
 "nbformat_minor": 2
}
